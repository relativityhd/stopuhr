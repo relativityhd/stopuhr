{
  "cells": [
    {
      "cell_type": "markdown",
      "metadata": {},
      "source": [
        "\n# Advanced Usage Example\n\nThis is a advanced usage example of the `stopuhr` package.\n"
      ]
    },
    {
      "cell_type": "markdown",
      "metadata": {},
      "source": [
        "Also print out function arguments\n\n"
      ]
    },
    {
      "cell_type": "code",
      "execution_count": null,
      "metadata": {
        "collapsed": false
      },
      "outputs": [],
      "source": [
        "import time\n\nfrom stopuhr import stopwatch\n\n\n@stopwatch.f(\"Sleeping\")\ndef sleep(seconds: float):\n    time.sleep(seconds)\n\n\nsleep(0.1)"
      ]
    },
    {
      "cell_type": "markdown",
      "metadata": {},
      "source": [
        "If some parameters should not be printed,\nwe can use the `print_kwargs` argument.to select which ones should be printed.\n\n"
      ]
    },
    {
      "cell_type": "code",
      "execution_count": null,
      "metadata": {
        "collapsed": false
      },
      "outputs": [],
      "source": [
        "@stopwatch.f(\"Sleeping\", print_kwargs=[\"seconds\"])\ndef sleep(seconds: float, other: str):\n    time.sleep(seconds)\n    print(other)\n\n\nsleep(0.1, \"Hello\")"
      ]
    },
    {
      "cell_type": "markdown",
      "metadata": {},
      "source": [
        "In multi processing situations, we must use a separate `Chronometer` instance for each process.\nFor this, we can use the `merge` or `combine` method to combine the results of multiple `Chronometer` instances.\n\n"
      ]
    },
    {
      "cell_type": "code",
      "execution_count": null,
      "metadata": {
        "collapsed": false
      },
      "outputs": [],
      "source": [
        "import stopuhr\n\n\ndef simulate_process():\n    timer = stopuhr.Chronometer()\n\n    with timer(\"Sleeping\"):\n        time.sleep(0.1)\n        res = 3.14159\n    return {\"result\": res, \"timer\": timer}\n\n\n# We only simulate a multi processing situation here. A real one would be too much overhead.\n\ntasks_outputs = [simulate_process() for _ in range(5)]\ntasks_timer = [task[\"timer\"] for task in tasks_outputs]\n\ncombined_timer = stopuhr.Chronometer.combine(tasks_timer)\ncombined_timer.summary()"
      ]
    }
  ],
  "metadata": {
    "kernelspec": {
      "display_name": "Python 3",
      "language": "python",
      "name": "python3"
    },
    "language_info": {
      "codemirror_mode": {
        "name": "ipython",
        "version": 3
      },
      "file_extension": ".py",
      "mimetype": "text/x-python",
      "name": "python",
      "nbconvert_exporter": "python",
      "pygments_lexer": "ipython3",
      "version": "3.13.2"
    }
  },
  "nbformat": 4,
  "nbformat_minor": 0
}