{
  "cells": [
    {
      "cell_type": "markdown",
      "metadata": {},
      "source": [
        "\n# Basic Usage Example\n\nThis is a basic usage example of the `stopuhr` package.\n"
      ]
    },
    {
      "cell_type": "markdown",
      "metadata": {},
      "source": [
        "Stop the time with a simple context manager and print the duration.\n\n"
      ]
    },
    {
      "cell_type": "code",
      "execution_count": null,
      "metadata": {
        "collapsed": false
      },
      "outputs": [],
      "source": [
        "import time\n\nimport stopuhr\n\ntimer = stopuhr.Chronometer()\n\nwith timer(\"Sleeping\"):\n    time.sleep(0.1)"
      ]
    },
    {
      "cell_type": "markdown",
      "metadata": {},
      "source": [
        "stopuhr also provides a default instance of the `Chronometer` class, which is called `stopwatch`.\n\n"
      ]
    },
    {
      "cell_type": "code",
      "execution_count": null,
      "metadata": {
        "collapsed": false
      },
      "outputs": [],
      "source": [
        "from stopuhr import stopwatch\n\nwith stopwatch(\"Sleeping\"):\n    time.sleep(0.1)"
      ]
    },
    {
      "cell_type": "markdown",
      "metadata": {},
      "source": [
        "Instead of printing, one can pass any callable to the `printer` argument, e.g. a logger.\n\n"
      ]
    },
    {
      "cell_type": "code",
      "execution_count": null,
      "metadata": {
        "collapsed": false
      },
      "outputs": [],
      "source": [
        "import logging\n\nlogger = logging.getLogger(__name__)\nlogger.setLevel(logging.INFO)\nhandler = logging.StreamHandler()\nhandler.setFormatter(logging.Formatter(\"%(asctime)s - %(name)s - %(levelname)s - %(message)s\"))\nlogger.addHandler(handler)\n\nwith stopwatch(\"Sleeping\", printer=logger.info):\n    time.sleep(0.1)"
      ]
    },
    {
      "cell_type": "markdown",
      "metadata": {},
      "source": [
        "By default, the output is rounded to two decimal places. This can be changed with the `res` argument.\n\n"
      ]
    },
    {
      "cell_type": "code",
      "execution_count": null,
      "metadata": {
        "collapsed": false
      },
      "outputs": [],
      "source": [
        "with stopwatch(\"Sleeping\", res=3):\n    time.sleep(0.16189)"
      ]
    },
    {
      "cell_type": "markdown",
      "metadata": {},
      "source": [
        "We can change the default behaviour by passing the arguments to the `__init__` method of the `Chronometer` class.\n\n"
      ]
    },
    {
      "cell_type": "code",
      "execution_count": null,
      "metadata": {
        "collapsed": false
      },
      "outputs": [],
      "source": [
        "timer = stopuhr.Chronometer(printer=logger.info, res=3)\nwith timer(\"Sleeping\"):\n    time.sleep(0.16189)"
      ]
    },
    {
      "cell_type": "markdown",
      "metadata": {},
      "source": [
        "Since `stopwatch` is just a `Chronometer` instance, we can just overwrite the default behaviour.\n\n"
      ]
    },
    {
      "cell_type": "code",
      "execution_count": null,
      "metadata": {
        "collapsed": false
      },
      "outputs": [],
      "source": [
        "stopwatch.res = 3\nwith stopwatch(\"Sleeping\"):\n    time.sleep(0.16189)\nstopwatch.res = 2  # back to default"
      ]
    },
    {
      "cell_type": "markdown",
      "metadata": {},
      "source": [
        "The `Chronometer` class is stateful, meaning that it can be used to measure multiple durations at once.\nThis also supports the `printer` and `res` arguments.\nThe `log` argument of each call can be used to suppress the output.\n\n"
      ]
    },
    {
      "cell_type": "code",
      "execution_count": null,
      "metadata": {
        "collapsed": false
      },
      "outputs": [],
      "source": [
        "for i in range(5):\n    with stopwatch(\"Sleeping\", log=False):\n        time.sleep(0.2)\n\n# Print a summary with the mean and standard deviation of the durations.\nstopwatch.summary()"
      ]
    },
    {
      "cell_type": "markdown",
      "metadata": {},
      "source": [
        "This summary used also the previous calls to the `stopwatch` function to calculate the mean.\nWe can reset it's state with the `reset` method, note that this is happening in-place.\n\n"
      ]
    },
    {
      "cell_type": "code",
      "execution_count": null,
      "metadata": {
        "collapsed": false
      },
      "outputs": [],
      "source": [
        "stopwatch.reset()"
      ]
    },
    {
      "cell_type": "markdown",
      "metadata": {},
      "source": [
        "The previous behavior can also be achieved with the `start` and `stop` methods.\nHere, the `stop` method also supports the `printer`, `log` and `res` arguments.\n\n"
      ]
    },
    {
      "cell_type": "code",
      "execution_count": null,
      "metadata": {
        "collapsed": false
      },
      "outputs": [],
      "source": [
        "for i in range(5):\n    stopwatch.start(\"Sleeping\")\n    time.sleep(0.2)\n    stopwatch.stop(\"Sleeping\", log=False)\n\nstopwatch.summary()"
      ]
    },
    {
      "cell_type": "markdown",
      "metadata": {},
      "source": [
        "The Chronometer can also measure multiple durations at once, thanks to that feature.\n\n"
      ]
    },
    {
      "cell_type": "code",
      "execution_count": null,
      "metadata": {
        "collapsed": false
      },
      "outputs": [],
      "source": [
        "stopwatch.reset()\n\n# Single duration\nwith stopwatch(\"A (single 0.2s sleep)\", log=False):\n    time.sleep(0.2)\n\nfor i in range(5):\n    with stopwatch(\"B (multiple 0.2s sleeps)\", log=False):\n        time.sleep(0.2)\n    with stopwatch(\"C (multiple 0.1s sleeps)\", log=False):\n        time.sleep(0.1)\n\nstopwatch.summary()"
      ]
    },
    {
      "cell_type": "markdown",
      "metadata": {},
      "source": [
        "Because the `Chronometer`'s `__call__` method is a `@contextmanager`, it can be used as a decorator.\nThis takes the same arguments as the context manager (`res`, `log` and `printer`).\n\n"
      ]
    },
    {
      "cell_type": "code",
      "execution_count": null,
      "metadata": {
        "collapsed": false
      },
      "outputs": [],
      "source": [
        "stopwatch.reset()\n\n\n@stopwatch(\"Busy Function\")\ndef busy_function():\n    time.sleep(0.2)\n\n\nbusy_function()"
      ]
    },
    {
      "cell_type": "markdown",
      "metadata": {},
      "source": [
        "Of course, this can be used to measure multiple functions at once.\n\n"
      ]
    },
    {
      "cell_type": "code",
      "execution_count": null,
      "metadata": {
        "collapsed": false
      },
      "outputs": [],
      "source": [
        "stopwatch.reset()\n\n\n@stopwatch(\"Busy Function\", log=False)\ndef busy_function():\n    time.sleep(0.1)\n\n\nfor i in range(5):\n    busy_function()\n\nstopwatch.summary()"
      ]
    }
  ],
  "metadata": {
    "kernelspec": {
      "display_name": "Python 3",
      "language": "python",
      "name": "python3"
    },
    "language_info": {
      "codemirror_mode": {
        "name": "ipython",
        "version": 3
      },
      "file_extension": ".py",
      "mimetype": "text/x-python",
      "name": "python",
      "nbconvert_exporter": "python",
      "pygments_lexer": "ipython3",
      "version": "3.13.2"
    }
  },
  "nbformat": 4,
  "nbformat_minor": 0
}